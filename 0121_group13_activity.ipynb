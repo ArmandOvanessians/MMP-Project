{
  "nbformat": 4,
  "nbformat_minor": 0,
  "metadata": {
    "colab": {
      "name": "0121_group13_activity.ipynb",
      "provenance": [],
      "authorship_tag": "ABX9TyPzYcLkZQ/QvqfvzgRBHh1+",
      "include_colab_link": true
    },
    "kernelspec": {
      "name": "python3",
      "display_name": "Python 3"
    },
    "language_info": {
      "name": "python"
    }
  },
  "cells": [
    {
      "cell_type": "markdown",
      "metadata": {
        "id": "view-in-github",
        "colab_type": "text"
      },
      "source": [
        "<a href=\"https://colab.research.google.com/github/ArmandOvanessians/SINGLE-MOLECULE-BIOPHYSICS-LABORATORY/blob/main/0121_group13_activity.ipynb\" target=\"_parent\"><img src=\"https://colab.research.google.com/assets/colab-badge.svg\" alt=\"Open In Colab\"/></a>"
      ]
    },
    {
      "cell_type": "code",
      "execution_count": null,
      "metadata": {
        "id": "-nQBr3j26lqa"
      },
      "outputs": [],
      "source": [
        ""
      ]
    },
    {
      "cell_type": "markdown",
      "source": [
        "Hello I'm Armand\n",
        "I love eating chocolate \n",
        "And I love candy"
      ],
      "metadata": {
        "id": "UJcKcP1K67oH"
      }
    },
    {
      "cell_type": "markdown",
      "source": [
        ""
      ],
      "metadata": {
        "id": "HARLqg547dVy"
      }
    },
    {
      "cell_type": "markdown",
      "source": [
        ""
      ],
      "metadata": {
        "id": "bCRoKlVP67GX"
      }
    }
  ]
}